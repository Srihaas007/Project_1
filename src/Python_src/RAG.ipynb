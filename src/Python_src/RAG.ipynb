{
 "cells": [
  {
   "cell_type": "code",
   "execution_count": 2,
   "metadata": {},
   "outputs": [],
   "source": [
    "from dotenv import load_dotenv\n",
    "import os\n",
    "\n",
    "# Load environment variables from .env file\n",
    "load_dotenv()\n",
    "\n",
    "# Initialize API keys\n",
    "CLAUDE_API_KEY = os.getenv('CLAUDE_API_KEY')\n",
    "MONGODB_URI = os.getenv('MONGODB_URI')\n",
    "\n",
    "\n",
    "# Validate that the keys are not None\n",
    "if not all([CLAUDE_API_KEY, MONGODB_URI]):\n",
    "    raise ValueError(\"One or more required environment variables are missing.\")\n"
   ]
  },
  {
   "cell_type": "code",
   "execution_count": 4,
   "metadata": {},
   "outputs": [
    {
     "ename": "ModuleNotFoundError",
     "evalue": "No module named 'pymongo'",
     "output_type": "error",
     "traceback": [
      "\u001b[1;31m---------------------------------------------------------------------------\u001b[0m",
      "\u001b[1;31mModuleNotFoundError\u001b[0m                       Traceback (most recent call last)",
      "Cell \u001b[1;32mIn[4], line 1\u001b[0m\n\u001b[1;32m----> 1\u001b[0m \u001b[38;5;28;01mfrom\u001b[39;00m \u001b[38;5;21;01mpymongo\u001b[39;00m \u001b[38;5;28;01mimport\u001b[39;00m MongoClient\n\u001b[0;32m      2\u001b[0m \u001b[38;5;28;01mfrom\u001b[39;00m \u001b[38;5;21;01mlangchain_community\u001b[39;00m\u001b[38;5;21;01m.\u001b[39;00m\u001b[38;5;21;01mvectorstores\u001b[39;00m \u001b[38;5;28;01mimport\u001b[39;00m MongoDBAtlasVectorSearch\n\u001b[0;32m      3\u001b[0m \u001b[38;5;28;01mfrom\u001b[39;00m \u001b[38;5;21;01mlangchain_community\u001b[39;00m\u001b[38;5;21;01m.\u001b[39;00m\u001b[38;5;21;01mdocument_loaders\u001b[39;00m \u001b[38;5;28;01mimport\u001b[39;00m PyPDFLoader\n",
      "\u001b[1;31mModuleNotFoundError\u001b[0m: No module named 'pymongo'"
     ]
    }
   ],
   "source": [
    "from pymongo import MongoClient\n",
    "from langchain_community.vectorstores import MongoDBAtlasVectorSearch\n",
    "from langchain_community.document_loaders import PyPDFLoader\n",
    "from langchain.text_splitter import RecursiveCharacterTextSplitter\n",
    "from sentence_transformers import SentenceTransformer\n",
    "from langchain_community.document_transformers.openai_functions import (\n",
    "    create_metadata_tagger,\n",
    ")\n",
    "from langchain.chains import create_tagging_chain\n",
    "#from langchain_anthropic import AnthropicEmbeddings\n",
    "from langchain_anthropic import ChatAnthropic\n",
    "\n",
    "\n",
    "\n",
    "# Set the MongoDB URI, DB, Collection Names\n",
    "\n",
    "client = MongoClient(MONGODB_URI)\n",
    "dbName = \"book_mongodb_chunks\"\n",
    "collectionName = \"chunked_data\"\n",
    "collection = client[dbName][collectionName]\n",
    "\n",
    "loader = PyPDFLoader(\".\\sample_files\\LightRAG.pdf\")\n",
    "pages = loader.load()\n",
    "cleaned_pages = []\n",
    "\n",
    "for page in pages:\n",
    "    if len(page.page_content.split(\" \")) > 20:\n",
    "        cleaned_pages.append(page)\n",
    "\n",
    "text_splitter = RecursiveCharacterTextSplitter(chunk_size=500, chunk_overlap=150)\n",
    "\n",
    "schema = {\n",
    "    \"properties\": {\n",
    "        \"title\": {\"type\": \"string\"},\n",
    "        \"keywords\": {\"type\": \"array\", \"items\": {\"type\": \"string\"}},\n",
    "        \"hasCode\": {\"type\": \"boolean\"},\n",
    "    },\n",
    "    \"required\": [\"title\", \"keywords\", \"hasCode\"],\n",
    "}\n",
    "\n",
    "llm = ChatAnthropic(\n",
    "    anthropic_api_key=CLAUDE_API_KEY, temperature=0, model=\"claude-3-sonnet-20240229\"\n",
    ")\n"
   ]
  },
  {
   "cell_type": "code",
   "execution_count": null,
   "metadata": {},
   "outputs": [],
   "source": [
    "\n",
    "tagging_chain = create_tagging_chain(schema, llm)\n",
    "\n",
    "docs = []\n",
    "for page in cleaned_pages:\n",
    "    tagged_content = tagging_chain.run(page.page_content)\n",
    "    docs.append({**tagged_content, **page.metadata})\n",
    "\n",
    "#document_transformer = create_metadata_tagger(metadata_schema=schema, llm=llm)\n",
    "\n",
    "#docs = document_transformer.transform_documents(cleaned_pages)\n",
    "\n",
    "split_docs = text_splitter.split_documents(docs)\n",
    "\n",
    "embeddings = SentenceTransformer(\"hkunlp/instructor-xl\")\n",
    "\n",
    "vectorStore = MongoDBAtlasVectorSearch.from_documents(\n",
    "    split_docs, embeddings, collection=collection\n",
    ")"
   ]
  }
 ],
 "metadata": {
  "kernelspec": {
   "display_name": "Project_1",
   "language": "python",
   "name": "python3"
  },
  "language_info": {
   "codemirror_mode": {
    "name": "ipython",
    "version": 3
   },
   "file_extension": ".py",
   "mimetype": "text/x-python",
   "name": "python",
   "nbconvert_exporter": "python",
   "pygments_lexer": "ipython3",
   "version": "3.11.5"
  }
 },
 "nbformat": 4,
 "nbformat_minor": 2
}
